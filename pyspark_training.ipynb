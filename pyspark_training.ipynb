{
  "nbformat": 4,
  "nbformat_minor": 0,
  "metadata": {
    "colab": {
      "provenance": [],
      "collapsed_sections": []
    },
    "kernelspec": {
      "name": "python3",
      "display_name": "Python 3"
    }
  },
  "cells": [
    {
      "cell_type": "code",
      "metadata": {
        "id": "j0nxhbSDhlf_",
        "colab": {
          "base_uri": "https://localhost:8080/"
        },
        "outputId": "abb8b728-61af-465f-b0ad-3aeca01ac761"
      },
      "source": [
        "import os\n",
        "\n",
        "# Install Spark and Java\n",
        "!apt-get update\n",
        "!apt-get install openjdk-8-jdk-headless -qq > /dev/null\n",
        "!wget -q https://archive.apache.org/dist/spark/spark-2.4.4/spark-2.4.4-bin-hadoop2.7.tgz\n",
        "!tar xf spark-2.4.4-bin-hadoop2.7.tgz\n",
        "!pip install -q findspark\n",
        "\n",
        "# Set Environment Variables\n",
        "os.environ[\"JAVA_HOME\"] = \"/usr/lib/jvm/java-8-openjdk-amd64\" \n",
        "os.environ[\"SPARK_HOME\"] = \"/content/spark-2.4.4-bin-hadoop2.7\"\n",
        "\n",
        "# Start a SparkSession\n",
        "import findspark\n",
        "findspark.init('spark-2.4.4-bin-hadoop2.7')"
      ],
      "execution_count": null,
      "outputs": [
        {
          "output_type": "stream",
          "name": "stdout",
          "text": [
            "\r0% [Working]\r            \rGet:1 https://cloud.r-project.org/bin/linux/ubuntu bionic-cran40/ InRelease [3,626 B]\n",
            "\r0% [Connecting to archive.ubuntu.com (185.125.190.39)] [Connecting to security.\r0% [Connecting to archive.ubuntu.com (185.125.190.39)] [Connecting to security.\r0% [1 InRelease gpgv 3,626 B] [Connecting to archive.ubuntu.com (185.125.190.39\r                                                                               \rIgn:2 https://developer.download.nvidia.com/compute/machine-learning/repos/ubuntu1804/x86_64  InRelease\n",
            "\r0% [1 InRelease gpgv 3,626 B] [Connecting to archive.ubuntu.com (185.125.190.39\r                                                                               \rGet:3 https://developer.download.nvidia.com/compute/cuda/repos/ubuntu1804/x86_64  InRelease [1,581 B]\n",
            "Hit:4 https://developer.download.nvidia.com/compute/machine-learning/repos/ubuntu1804/x86_64  Release\n",
            "Hit:5 http://archive.ubuntu.com/ubuntu bionic InRelease\n",
            "Get:6 http://security.ubuntu.com/ubuntu bionic-security InRelease [88.7 kB]\n",
            "Hit:7 http://ppa.launchpad.net/c2d4u.team/c2d4u4.0+/ubuntu bionic InRelease\n",
            "Get:8 http://archive.ubuntu.com/ubuntu bionic-updates InRelease [88.7 kB]\n",
            "Hit:9 http://ppa.launchpad.net/cran/libgit2/ubuntu bionic InRelease\n",
            "Get:10 https://developer.download.nvidia.com/compute/cuda/repos/ubuntu1804/x86_64  Packages [913 kB]\n",
            "Hit:11 http://ppa.launchpad.net/deadsnakes/ppa/ubuntu bionic InRelease\n",
            "Get:12 http://archive.ubuntu.com/ubuntu bionic-backports InRelease [83.3 kB]\n",
            "Get:14 http://ppa.launchpad.net/graphics-drivers/ppa/ubuntu bionic InRelease [21.3 kB]\n",
            "Get:15 http://security.ubuntu.com/ubuntu bionic-security/universe amd64 Packages [1,546 kB]\n",
            "Get:16 http://archive.ubuntu.com/ubuntu bionic-updates/main amd64 Packages [3,422 kB]\n",
            "Get:17 http://security.ubuntu.com/ubuntu bionic-security/main amd64 Packages [2,990 kB]\n",
            "Get:18 http://archive.ubuntu.com/ubuntu bionic-updates/universe amd64 Packages [2,323 kB]\n",
            "Get:19 http://ppa.launchpad.net/graphics-drivers/ppa/ubuntu bionic/main amd64 Packages [48.3 kB]\n",
            "Fetched 11.5 MB in 4s (2,603 kB/s)\n",
            "Reading package lists... Done\n"
          ]
        }
      ]
    },
    {
      "cell_type": "code",
      "metadata": {
        "id": "w6ho6plkhvpi",
        "colab": {
          "base_uri": "https://localhost:8080/"
        },
        "outputId": "e0dc45c9-56a3-4e7f-a6cf-e80878b6b7c4"
      },
      "source": [
        "!wget https://jdbc.postgresql.org/download/postgresql-42.2.16.jar"
      ],
      "execution_count": null,
      "outputs": [
        {
          "output_type": "stream",
          "name": "stdout",
          "text": [
            "--2022-09-30 18:02:16--  https://jdbc.postgresql.org/download/postgresql-42.2.16.jar\n",
            "Resolving jdbc.postgresql.org (jdbc.postgresql.org)... 72.32.157.228, 2001:4800:3e1:1::228\n",
            "Connecting to jdbc.postgresql.org (jdbc.postgresql.org)|72.32.157.228|:443... connected.\n",
            "HTTP request sent, awaiting response... 200 OK\n",
            "Length: 1002883 (979K) [application/java-archive]\n",
            "Saving to: ‘postgresql-42.2.16.jar’\n",
            "\n",
            "postgresql-42.2.16. 100%[===================>] 979.38K  4.95MB/s    in 0.2s    \n",
            "\n",
            "2022-09-30 18:02:16 (4.95 MB/s) - ‘postgresql-42.2.16.jar’ saved [1002883/1002883]\n",
            "\n"
          ]
        }
      ]
    },
    {
      "cell_type": "code",
      "metadata": {
        "id": "GpkavEqThvsT"
      },
      "source": [
        "from pyspark.sql import SparkSession\n",
        "spark = SparkSession.builder.appName(\"CloudETL\").config(\"spark.driver.extraClassPath\",\"/content/postgresql-42.2.16.jar\").getOrCreate()"
      ],
      "execution_count": null,
      "outputs": []
    },
    {
      "cell_type": "code",
      "metadata": {
        "id": "DeCK7KvBhvu8"
      },
      "source": [
        "# Read in data from S3 Buckets\n",
        "from pyspark import SparkFiles\n",
        "url =\"https://s3.amazonaws.com/amazon-reviews-pds/tsv/amazon_reviews_us_Watches_v1_00.tsv.gz\"\n",
        "spark.sparkContext.addFile(url)\n",
        "df = spark.read.csv(SparkFiles.get(\"amazon_reviews_us_Watches_v1_00.tsv.gz\"), sep=\"\\t\", header=True, inferSchema=True)\n",
        "\n",
        "# Show DataFrame\n",
        "df.show()"
      ],
      "execution_count": null,
      "outputs": []
    },
    {
      "cell_type": "code",
      "metadata": {
        "id": "LJwWWO8mrrIi",
        "colab": {
          "base_uri": "https://localhost:8080/"
        },
        "outputId": "a76e6815-b0cd-40f3-b4bf-7b4c53e55253"
      },
      "source": [
        "# Drop null values and count rows\n",
        "df = df.dropna()\n",
        "num_rows = df.count()\n",
        "num_rows"
      ],
      "execution_count": null,
      "outputs": [
        {
          "output_type": "execute_result",
          "data": {
            "text/plain": [
              "960679"
            ]
          },
          "metadata": {},
          "execution_count": 5
        }
      ]
    },
    {
      "cell_type": "code",
      "metadata": {
        "id": "4iNBUv_HnyIa",
        "colab": {
          "base_uri": "https://localhost:8080/"
        },
        "outputId": "78d9a715-0ff4-4091-b813-3e1d54573b5d"
      },
      "source": [
        "# Check data types\n",
        "df.printSchema()"
      ],
      "execution_count": null,
      "outputs": [
        {
          "output_type": "stream",
          "name": "stdout",
          "text": [
            "root\n",
            " |-- marketplace: string (nullable = true)\n",
            " |-- customer_id: integer (nullable = true)\n",
            " |-- review_id: string (nullable = true)\n",
            " |-- product_id: string (nullable = true)\n",
            " |-- product_parent: integer (nullable = true)\n",
            " |-- product_title: string (nullable = true)\n",
            " |-- product_category: string (nullable = true)\n",
            " |-- star_rating: integer (nullable = true)\n",
            " |-- helpful_votes: integer (nullable = true)\n",
            " |-- total_votes: integer (nullable = true)\n",
            " |-- vine: string (nullable = true)\n",
            " |-- verified_purchase: string (nullable = true)\n",
            " |-- review_headline: string (nullable = true)\n",
            " |-- review_body: string (nullable = true)\n",
            " |-- review_date: timestamp (nullable = true)\n",
            "\n"
          ]
        }
      ]
    },
    {
      "cell_type": "code",
      "metadata": {
        "id": "-kuD--8tzJpD"
      },
      "source": [
        "# Load in a sql function to use columns\n",
        "from pyspark.sql.functions import col"
      ],
      "execution_count": null,
      "outputs": []
    },
    {
      "cell_type": "code",
      "metadata": {
        "id": "8QiJTUnWt7BY",
        "colab": {
          "base_uri": "https://localhost:8080/"
        },
        "outputId": "9a6d8625-fa96-4691-8f24-796f730a1de0"
      },
      "source": [
        "# Transform dataset to fit tables in the schema file\n",
        "cleaned_df = df.withColumn(\"review_date\",col(\"review_date\").cast(\"date\"))\n",
        "\n",
        "cleaned_df.printSchema()\n",
        "cleaned_df.show(10)     "
      ],
      "execution_count": null,
      "outputs": [
        {
          "output_type": "stream",
          "name": "stdout",
          "text": [
            "root\n",
            " |-- marketplace: string (nullable = true)\n",
            " |-- customer_id: integer (nullable = true)\n",
            " |-- review_id: string (nullable = true)\n",
            " |-- product_id: string (nullable = true)\n",
            " |-- product_parent: integer (nullable = true)\n",
            " |-- product_title: string (nullable = true)\n",
            " |-- product_category: string (nullable = true)\n",
            " |-- star_rating: integer (nullable = true)\n",
            " |-- helpful_votes: integer (nullable = true)\n",
            " |-- total_votes: integer (nullable = true)\n",
            " |-- vine: string (nullable = true)\n",
            " |-- verified_purchase: string (nullable = true)\n",
            " |-- review_headline: string (nullable = true)\n",
            " |-- review_body: string (nullable = true)\n",
            " |-- review_date: date (nullable = true)\n",
            "\n",
            "+-----------+-----------+--------------+----------+--------------+--------------------+----------------+-----------+-------------+-----------+----+-----------------+--------------------+--------------------+-----------+\n",
            "|marketplace|customer_id|     review_id|product_id|product_parent|       product_title|product_category|star_rating|helpful_votes|total_votes|vine|verified_purchase|     review_headline|         review_body|review_date|\n",
            "+-----------+-----------+--------------+----------+--------------+--------------------+----------------+-----------+-------------+-----------+----+-----------------+--------------------+--------------------+-----------+\n",
            "|         US|    3653882|R3O9SGZBVQBV76|B00FALQ1ZC|     937001370|Invicta Women's 1...|         Watches|          5|            0|          0|   N|                Y|          Five Stars|Absolutely love t...| 2015-08-31|\n",
            "|         US|   14661224| RKH8BNC3L5DLF|B00D3RGO20|     484010722|Kenneth Cole New ...|         Watches|          5|            0|          0|   N|                Y|I love thiswatch ...|I love this watch...| 2015-08-31|\n",
            "|         US|   27324930|R2HLE8WKZSU3NL|B00DKYC7TK|     361166390|Ritche 22mm Black...|         Watches|          2|            1|          1|   N|                Y|           Two Stars|           Scratches| 2015-08-31|\n",
            "|         US|    7211452|R31U3UH5AZ42LL|B000EQS1JW|     958035625|Citizen Men's BM8...|         Watches|          5|            0|          0|   N|                Y|          Five Stars|It works well on ...| 2015-08-31|\n",
            "|         US|   12733322|R2SV659OUJ945Y|B00A6GFD7S|     765328221|Orient ER27009B M...|         Watches|          4|            0|          0|   N|                Y|Beautiful face, b...|Beautiful watch f...| 2015-08-31|\n",
            "|         US|    6576411| RA51CP8TR5A2L|B00EYSOSE8|     230493695|Casio Men's GW-94...|         Watches|          5|            0|          0|   N|                Y|       No complaints|i love this watch...| 2015-08-31|\n",
            "|         US|   11811565| RB2Q7DLDN6TH6|B00WM0QA3M|     549298279|Fossil Women's ES...|         Watches|          5|            1|          1|   N|                Y|          Five Stars|for my wife and s...| 2015-08-31|\n",
            "|         US|   49401598|R2RHFJV0UYBK3Y|B00A4EYBR0|     844009113|INFANTRY Mens Nig...|         Watches|          1|            1|          5|   N|                N|I was about to bu...|I was about to bu...| 2015-08-31|\n",
            "|         US|   45925069|R2Z6JOQ94LFHEP|B00MAMPGGE|     263720892|G-Shock Men's Gre...|         Watches|          5|            1|          2|   N|                Y|      Perfect watch!|Watch is perfect....| 2015-08-31|\n",
            "|         US|   44751341| RX27XIIWY5JPB|B004LBPB7Q|     124278407|Heiden Quad Watch...|         Watches|          4|            0|          0|   N|                Y|Great quality and...|Great quality and...| 2015-08-31|\n",
            "+-----------+-----------+--------------+----------+--------------+--------------------+----------------+-----------+-------------+-----------+----+-----------------+--------------------+--------------------+-----------+\n",
            "only showing top 10 rows\n",
            "\n"
          ]
        }
      ]
    },
    {
      "cell_type": "code",
      "metadata": {
        "id": "_iu3ecXIiygq",
        "colab": {
          "base_uri": "https://localhost:8080/"
        },
        "outputId": "e153fe7c-d5f7-4794-975a-a2025695868e"
      },
      "source": [
        "# Create review_id DataFrame to match review_id table\n",
        "review_df = cleaned_df.select(['review_id', 'customer_id', 'product_id', 'product_parent', 'review_date'])\n",
        "review_df.printSchema()\n",
        "review_df.show()"
      ],
      "execution_count": null,
      "outputs": [
        {
          "output_type": "stream",
          "name": "stdout",
          "text": [
            "root\n",
            " |-- review_id: string (nullable = true)\n",
            " |-- customer_id: integer (nullable = true)\n",
            " |-- product_id: string (nullable = true)\n",
            " |-- product_parent: integer (nullable = true)\n",
            " |-- review_date: date (nullable = true)\n",
            "\n",
            "+--------------+-----------+----------+--------------+-----------+\n",
            "|     review_id|customer_id|product_id|product_parent|review_date|\n",
            "+--------------+-----------+----------+--------------+-----------+\n",
            "|R3O9SGZBVQBV76|    3653882|B00FALQ1ZC|     937001370| 2015-08-31|\n",
            "| RKH8BNC3L5DLF|   14661224|B00D3RGO20|     484010722| 2015-08-31|\n",
            "|R2HLE8WKZSU3NL|   27324930|B00DKYC7TK|     361166390| 2015-08-31|\n",
            "|R31U3UH5AZ42LL|    7211452|B000EQS1JW|     958035625| 2015-08-31|\n",
            "|R2SV659OUJ945Y|   12733322|B00A6GFD7S|     765328221| 2015-08-31|\n",
            "| RA51CP8TR5A2L|    6576411|B00EYSOSE8|     230493695| 2015-08-31|\n",
            "| RB2Q7DLDN6TH6|   11811565|B00WM0QA3M|     549298279| 2015-08-31|\n",
            "|R2RHFJV0UYBK3Y|   49401598|B00A4EYBR0|     844009113| 2015-08-31|\n",
            "|R2Z6JOQ94LFHEP|   45925069|B00MAMPGGE|     263720892| 2015-08-31|\n",
            "| RX27XIIWY5JPB|   44751341|B004LBPB7Q|     124278407| 2015-08-31|\n",
            "|R15C7QEZT0LGZN|    9962330|B00KGTVGKS|      28017857| 2015-08-31|\n",
            "|R361XSS37V0NCZ|   16097204|B0039UT5OU|     685450910| 2015-08-31|\n",
            "| ROTNLALUAJAUB|   51330346|B00MPF0XJQ|     767769082| 2015-08-31|\n",
            "|R2DYX7QU6BGOHR|    4201739|B003P1OHHS|     648595227| 2015-08-31|\n",
            "| RWASY7FKI7QOT|   26339765|B00R70YEOE|     457338020| 2015-08-31|\n",
            "|R2KKYZIN3CCL21|    2692576|B000FVE3BG|     824370661| 2015-08-31|\n",
            "|R22H4FGVD5O52O|   44713366|B008X6JB12|     814431355| 2015-08-31|\n",
            "|R11UACZERCM4ZY|   32778769|B0040UOFPW|     187700878| 2015-08-31|\n",
            "|R1AT8NQ38UQOL6|   27258523|B00UR2R5UY|     594315262| 2015-08-31|\n",
            "|R2NCZRQGIF1Q75|   42646538|B00HFF57L0|     520810507| 2015-08-31|\n",
            "+--------------+-----------+----------+--------------+-----------+\n",
            "only showing top 20 rows\n",
            "\n"
          ]
        }
      ]
    },
    {
      "cell_type": "code",
      "metadata": {
        "id": "q1JWbKAy3EiA",
        "colab": {
          "base_uri": "https://localhost:8080/"
        },
        "outputId": "b1c9beca-ad29-4fc6-94d0-ac40ad57728a"
      },
      "source": [
        "review_df.count()"
      ],
      "execution_count": null,
      "outputs": [
        {
          "output_type": "execute_result",
          "data": {
            "text/plain": [
              "960679"
            ]
          },
          "metadata": {},
          "execution_count": 10
        }
      ]
    },
    {
      "cell_type": "code",
      "metadata": {
        "id": "DenM_HV51EYb"
      },
      "source": [
        "# Create products DataFrame to match products table\n",
        "products_df = cleaned_df.select(['product_id', 'product_title'])\n",
        "products_df = products_df.dropDuplicates()\n",
        "products_df.printSchema()\n",
        "products_df.show()"
      ],
      "execution_count": null,
      "outputs": []
    },
    {
      "cell_type": "code",
      "metadata": {
        "id": "9aoLp2e83So7",
        "colab": {
          "base_uri": "https://localhost:8080/"
        },
        "outputId": "e691283d-0f81-4c75-b98e-cdca0eb5e601"
      },
      "source": [
        "products_df.count()"
      ],
      "execution_count": null,
      "outputs": [
        {
          "output_type": "execute_result",
          "data": {
            "text/plain": [
              "149694"
            ]
          },
          "metadata": {},
          "execution_count": 20
        }
      ]
    },
    {
      "cell_type": "code",
      "metadata": {
        "id": "lraOA7W-1XYh"
      },
      "source": [
        "# Create customers DataFrame to match customers table\n",
        "cust_df = cleaned_df.select(['customer_id'])\n",
        "customers_df = cust_df.groupBy('customer_id').count()\n",
        "customers_df = customers_df.withColumnRenamed('count', 'customer_count')\n",
        "# Change customer_count data type from long to integer\n",
        "customers_df = customers_df.withColumn(\"customer_count\",col(\"customer_count\").cast(\"int\"))\n",
        "# Double check Schema\n",
        "customers_df.printSchema()\n",
        "\n",
        "#Getting the all Id that appears more than once\n",
        "customers_df.filter('customer_count > 1').select(['customer_id']).show(5)"
      ],
      "execution_count": null,
      "outputs": []
    },
    {
      "cell_type": "code",
      "source": [
        "# Create a columns 'Duplicate_indicator' and after that make a filter\n",
        "import pyspark.sql.functions as f\n",
        "new_df = df.join(\n",
        "    df.groupBy(df.columns).agg((f.count(\"customer_id\")>1).cast(\"int\").alias(\"Duplicate_indicator\")),\n",
        "    on=df.columns,\n",
        "    how=\"inner\"\n",
        ")\n",
        "#Just a Quick View to see how it gone\n",
        "new_df.show(10)"
      ],
      "metadata": {
        "id": "ZlJKDyQ0P1VG"
      },
      "execution_count": null,
      "outputs": []
    },
    {
      "cell_type": "markdown",
      "source": [
        "# Making some consults\n"
      ],
      "metadata": {
        "id": "l_AiiNAwDs0C"
      }
    },
    {
      "cell_type": "code",
      "source": [
        "df.groupBy('star_rating').count().orderBy('star_rating').withColumnRenamed('count', 'Quantitative').show(5)"
      ],
      "metadata": {
        "colab": {
          "base_uri": "https://localhost:8080/"
        },
        "id": "MlP1HMdxEF8R",
        "outputId": "4d4ecbae-bf3b-4934-b609-0e6afa2b87e9"
      },
      "execution_count": null,
      "outputs": [
        {
          "output_type": "stream",
          "name": "stdout",
          "text": [
            "+-----------+------------+\n",
            "|star_rating|Quantitative|\n",
            "+-----------+------------+\n",
            "|          1|       85158|\n",
            "|          2|       52032|\n",
            "|          3|       79143|\n",
            "|          4|      172853|\n",
            "|          5|      571493|\n",
            "+-----------+------------+\n",
            "\n"
          ]
        }
      ]
    },
    {
      "cell_type": "code",
      "source": [
        "# Pivoting Spark DataFrame\n",
        "df.groupBy(['vine', 'star_rating']).count().groupBy('vine').pivot(\"star_rating\").sum(\"count\").show()"
      ],
      "metadata": {
        "colab": {
          "base_uri": "https://localhost:8080/"
        },
        "id": "88CymTPGjzz5",
        "outputId": "58053e32-a0dc-4934-dba5-64dcd45def4c"
      },
      "execution_count": null,
      "outputs": [
        {
          "output_type": "stream",
          "name": "stdout",
          "text": [
            "+----+-----+-----+-----+------+------+\n",
            "|vine|    1|    2|    3|     4|     5|\n",
            "+----+-----+-----+-----+------+------+\n",
            "|   Y|   35|   87|  266|   754|   605|\n",
            "|   N|85123|51945|78877|172099|570888|\n",
            "+----+-----+-----+-----+------+------+\n",
            "\n"
          ]
        }
      ]
    },
    {
      "cell_type": "code",
      "source": [
        "import pyspark.sql.functions as F\n",
        "df.groupBy(\"total_votes\", \"star_rating\").agg(F.stddev(\"total_votes\")).show(5)\n"
      ],
      "metadata": {
        "colab": {
          "base_uri": "https://localhost:8080/"
        },
        "id": "Ees3j0qXTeyQ",
        "outputId": "041b527c-398f-4223-d720-96edced946fb"
      },
      "execution_count": null,
      "outputs": [
        {
          "output_type": "stream",
          "name": "stdout",
          "text": [
            "+-----------+-----------+------------------------+\n",
            "|total_votes|star_rating|stddev_samp(total_votes)|\n",
            "+-----------+-----------+------------------------+\n",
            "|         71|          4|                     0.0|\n",
            "|        162|          3|                     NaN|\n",
            "|         92|          2|                     NaN|\n",
            "|        247|          5|                     NaN|\n",
            "|         10|          2|                     0.0|\n",
            "+-----------+-----------+------------------------+\n",
            "only showing top 5 rows\n",
            "\n"
          ]
        }
      ]
    },
    {
      "cell_type": "code",
      "source": [
        "df.groupBy(['total_votes', 'star_rating']).count().show()"
      ],
      "metadata": {
        "colab": {
          "base_uri": "https://localhost:8080/"
        },
        "id": "MKJmoHBJSHdH",
        "outputId": "89445108-2226-40fb-caf4-fe07cc314ed4"
      },
      "execution_count": null,
      "outputs": [
        {
          "output_type": "stream",
          "name": "stdout",
          "text": [
            "+-----------+-----------+-----+\n",
            "|total_votes|star_rating|count|\n",
            "+-----------+-----------+-----+\n",
            "|         71|          4|    8|\n",
            "|        162|          3|    1|\n",
            "|         92|          2|    1|\n",
            "|        247|          5|    1|\n",
            "|         10|          2|  303|\n",
            "|         62|          1|   13|\n",
            "|         41|          3|   14|\n",
            "|        118|          1|    1|\n",
            "|         69|          1|    5|\n",
            "|        104|          5|    8|\n",
            "|        108|          1|    2|\n",
            "|        105|          1|    3|\n",
            "|        340|          5|    1|\n",
            "|        185|          1|    1|\n",
            "|         16|          3|  122|\n",
            "|         34|          5|   80|\n",
            "|         17|          1|  243|\n",
            "|         17|          2|   88|\n",
            "|        115|          5|    5|\n",
            "|        491|          4|    1|\n",
            "+-----------+-----------+-----+\n",
            "only showing top 20 rows\n",
            "\n"
          ]
        }
      ]
    }
  ]
}